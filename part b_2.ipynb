{
 "cells": [
  {
   "cell_type": "markdown",
   "metadata": {},
   "source": [
    "# QRM CW2 PartB"
   ]
  },
  {
   "cell_type": "code",
   "execution_count": 2,
   "metadata": {},
   "outputs": [],
   "source": [
    "import numpy as np\n",
    "import pandas as pd\n",
    "import math\n",
    "import matplotlib.pyplot as plt\n",
    "from scipy import stats"
   ]
  },
  {
   "cell_type": "code",
   "execution_count": 3,
   "metadata": {},
   "outputs": [
    {
     "data": {
      "text/html": [
       "<div>\n",
       "<style scoped>\n",
       "    .dataframe tbody tr th:only-of-type {\n",
       "        vertical-align: middle;\n",
       "    }\n",
       "\n",
       "    .dataframe tbody tr th {\n",
       "        vertical-align: top;\n",
       "    }\n",
       "\n",
       "    .dataframe thead th {\n",
       "        text-align: right;\n",
       "    }\n",
       "</style>\n",
       "<table border=\"1\" class=\"dataframe\">\n",
       "  <thead>\n",
       "    <tr style=\"text-align: right;\">\n",
       "      <th></th>\n",
       "      <th>Date</th>\n",
       "      <th>CROX</th>\n",
       "      <th>NFLX</th>\n",
       "      <th>TIF</th>\n",
       "      <th>TSLA</th>\n",
       "      <th>CROX_LL</th>\n",
       "      <th>NFLX_LL</th>\n",
       "      <th>TIF_LL</th>\n",
       "      <th>TSLA_LL</th>\n",
       "    </tr>\n",
       "  </thead>\n",
       "  <tbody>\n",
       "    <tr>\n",
       "      <th>1</th>\n",
       "      <td>2011-12-19</td>\n",
       "      <td>14.550</td>\n",
       "      <td>9.5929</td>\n",
       "      <td>62.43</td>\n",
       "      <td>27.75</td>\n",
       "      <td>0.019061</td>\n",
       "      <td>0.038989</td>\n",
       "      <td>0.002879</td>\n",
       "      <td>0.008969</td>\n",
       "    </tr>\n",
       "    <tr>\n",
       "      <th>2</th>\n",
       "      <td>2011-12-20</td>\n",
       "      <td>15.060</td>\n",
       "      <td>10.2000</td>\n",
       "      <td>63.14</td>\n",
       "      <td>27.90</td>\n",
       "      <td>-0.034451</td>\n",
       "      <td>-0.061364</td>\n",
       "      <td>-0.011309</td>\n",
       "      <td>-0.005391</td>\n",
       "    </tr>\n",
       "    <tr>\n",
       "      <th>3</th>\n",
       "      <td>2011-12-21</td>\n",
       "      <td>15.160</td>\n",
       "      <td>10.1386</td>\n",
       "      <td>64.65</td>\n",
       "      <td>27.57</td>\n",
       "      <td>-0.006618</td>\n",
       "      <td>0.006038</td>\n",
       "      <td>-0.023634</td>\n",
       "      <td>0.011898</td>\n",
       "    </tr>\n",
       "    <tr>\n",
       "      <th>4</th>\n",
       "      <td>2011-12-22</td>\n",
       "      <td>15.160</td>\n",
       "      <td>10.5486</td>\n",
       "      <td>64.57</td>\n",
       "      <td>27.77</td>\n",
       "      <td>0.000000</td>\n",
       "      <td>-0.039643</td>\n",
       "      <td>0.001238</td>\n",
       "      <td>-0.007228</td>\n",
       "    </tr>\n",
       "    <tr>\n",
       "      <th>5</th>\n",
       "      <td>2011-12-23</td>\n",
       "      <td>15.875</td>\n",
       "      <td>10.3743</td>\n",
       "      <td>65.18</td>\n",
       "      <td>27.90</td>\n",
       "      <td>-0.046085</td>\n",
       "      <td>0.016662</td>\n",
       "      <td>-0.009403</td>\n",
       "      <td>-0.004670</td>\n",
       "    </tr>\n",
       "  </tbody>\n",
       "</table>\n",
       "</div>"
      ],
      "text/plain": [
       "         Date    CROX     NFLX    TIF   TSLA   CROX_LL   NFLX_LL    TIF_LL  \\\n",
       "1  2011-12-19  14.550   9.5929  62.43  27.75  0.019061  0.038989  0.002879   \n",
       "2  2011-12-20  15.060  10.2000  63.14  27.90 -0.034451 -0.061364 -0.011309   \n",
       "3  2011-12-21  15.160  10.1386  64.65  27.57 -0.006618  0.006038 -0.023634   \n",
       "4  2011-12-22  15.160  10.5486  64.57  27.77  0.000000 -0.039643  0.001238   \n",
       "5  2011-12-23  15.875  10.3743  65.18  27.90 -0.046085  0.016662 -0.009403   \n",
       "\n",
       "    TSLA_LL  \n",
       "1  0.008969  \n",
       "2 -0.005391  \n",
       "3  0.011898  \n",
       "4 -0.007228  \n",
       "5 -0.004670  "
      ]
     },
     "execution_count": 3,
     "metadata": {},
     "output_type": "execute_result"
    }
   ],
   "source": [
    "df = pd.read_csv('QRM-2021-cw2-data.csv')\n",
    "# Compute Linear Loss\n",
    "df['CROX_LL'] = np.log(df.CROX.shift(1)) - np.log(df.CROX)\n",
    "df['NFLX_LL'] = np.log(df.NFLX.shift(1)) - np.log(df.NFLX)\n",
    "df['TIF_LL'] = np.log(df.TIF.shift(1)) - np.log(df.TIF)\n",
    "df['TSLA_LL'] = np.log(df.TSLA.shift(1)) - np.log(df.TSLA)\n",
    "df = df.iloc[1:,:]\n",
    "df.head()"
   ]
  },
  {
   "cell_type": "markdown",
   "metadata": {},
   "source": [
    "### (i) Fit a GARCH(1,1) to each stock\n",
    "### $r_t = \\mu + \\epsilon_t, \\epsilon_t = \\sigma_t Z_t$, $\\sigma_t ^ 2 = \\omega + \\alpha \\epsilon_{t-1}^2 + \\beta \\sigma_{t-1}^2$"
   ]
  },
  {
   "cell_type": "code",
   "execution_count": 4,
   "metadata": {},
   "outputs": [
    {
     "data": {
      "text/plain": [
       "(mu         -0.001475\n",
       " omega       0.000401\n",
       " alpha[1]    0.200001\n",
       " beta[1]     0.300000\n",
       " Name: params, dtype: float64,\n",
       " mu          0.001014\n",
       " omega       0.000147\n",
       " alpha[1]    0.256222\n",
       " beta[1]     0.372887\n",
       " Name: std_err, dtype: float64)"
      ]
     },
     "execution_count": 4,
     "metadata": {},
     "output_type": "execute_result"
    }
   ],
   "source": [
    "from arch import arch_model\n",
    "from arch.__future__ import reindexing\n",
    "# CROX \n",
    "am_CROX = arch_model(df.CROX_LL,rescale=False,mean='Constant', lags=0, vol='Garch', p=1, o=0, q=1, power=2.0)\n",
    "res_CROX = am_CROX.fit(disp='off')\n",
    "res_CROX.params, res_CROX.std_err"
   ]
  },
  {
   "cell_type": "code",
   "execution_count": 5,
   "metadata": {},
   "outputs": [
    {
     "data": {
      "text/plain": [
       "(mu         -0.001308\n",
       " omega       0.000490\n",
       " alpha[1]    0.285457\n",
       " beta[1]     0.250203\n",
       " Name: params, dtype: float64,\n",
       " mu          0.000695\n",
       " omega       0.000318\n",
       " alpha[1]    0.157489\n",
       " beta[1]     0.360120\n",
       " Name: std_err, dtype: float64)"
      ]
     },
     "execution_count": 5,
     "metadata": {},
     "output_type": "execute_result"
    }
   ],
   "source": [
    "# NFLX\n",
    "am_NFLX = arch_model(df.NFLX_LL,rescale=False,mean='Constant', lags=0, vol='Garch', p=1, o=0, q=1, power=2.0)\n",
    "res_NFLX = am_NFLX.fit(disp=\"off\")\n",
    "res_NFLX.params, res_NFLX.std_err"
   ]
  },
  {
   "cell_type": "code",
   "execution_count": 6,
   "metadata": {},
   "outputs": [
    {
     "data": {
      "text/plain": [
       "(mu         -0.000344\n",
       " omega       0.000102\n",
       " alpha[1]    0.100855\n",
       " beta[1]     0.599459\n",
       " Name: params, dtype: float64,\n",
       " mu          0.000406\n",
       " omega       0.000023\n",
       " alpha[1]    0.130207\n",
       " beta[1]     0.046065\n",
       " Name: std_err, dtype: float64)"
      ]
     },
     "execution_count": 6,
     "metadata": {},
     "output_type": "execute_result"
    }
   ],
   "source": [
    "# TIF\n",
    "am_TIF = arch_model(df.TIF_LL,rescale=False,mean='Constant', lags=0, vol='Garch', p=1, o=0, q=1, power=2.0)\n",
    "res_TIF = am_TIF.fit(disp='off')\n",
    "res_TIF.params, res_TIF.std_err"
   ]
  },
  {
   "cell_type": "code",
   "execution_count": 7,
   "metadata": {},
   "outputs": [
    {
     "data": {
      "text/plain": [
       "(mu         -0.000847\n",
       " omega       0.000020\n",
       " alpha[1]    0.050000\n",
       " beta[1]     0.930000\n",
       " Name: params, dtype: float64,\n",
       " mu          0.000715\n",
       " omega       0.000002\n",
       " alpha[1]    0.026125\n",
       " beta[1]     0.023911\n",
       " Name: std_err, dtype: float64)"
      ]
     },
     "execution_count": 7,
     "metadata": {},
     "output_type": "execute_result"
    }
   ],
   "source": [
    "# TSLA\n",
    "am_TSLA = arch_model(df.TSLA_LL,rescale=False,mean='Constant', lags=0, vol='Garch', p=1, o=0, q=1, power=2.0)\n",
    "res_TSLA = am_TSLA.fit(disp='off')\n",
    "res_TSLA.params, res_TSLA.std_err"
   ]
  },
  {
   "cell_type": "code",
   "execution_count": 8,
   "metadata": {},
   "outputs": [
    {
     "data": {
      "text/html": [
       "<div>\n",
       "<style scoped>\n",
       "    .dataframe tbody tr th:only-of-type {\n",
       "        vertical-align: middle;\n",
       "    }\n",
       "\n",
       "    .dataframe tbody tr th {\n",
       "        vertical-align: top;\n",
       "    }\n",
       "\n",
       "    .dataframe thead th {\n",
       "        text-align: right;\n",
       "    }\n",
       "</style>\n",
       "<table border=\"1\" class=\"dataframe\">\n",
       "  <thead>\n",
       "    <tr style=\"text-align: right;\">\n",
       "      <th></th>\n",
       "      <th>CROX</th>\n",
       "      <th>NFLX</th>\n",
       "      <th>TIF</th>\n",
       "      <th>TSLA</th>\n",
       "    </tr>\n",
       "  </thead>\n",
       "  <tbody>\n",
       "    <tr>\n",
       "      <th>1</th>\n",
       "      <td>0.644683</td>\n",
       "      <td>0.953907</td>\n",
       "      <td>0.149362</td>\n",
       "      <td>0.240716</td>\n",
       "    </tr>\n",
       "    <tr>\n",
       "      <th>2</th>\n",
       "      <td>-1.173083</td>\n",
       "      <td>-1.605279</td>\n",
       "      <td>-0.561163</td>\n",
       "      <td>-0.114641</td>\n",
       "    </tr>\n",
       "    <tr>\n",
       "      <th>3</th>\n",
       "      <td>-0.175786</td>\n",
       "      <td>0.169906</td>\n",
       "      <td>-1.258108</td>\n",
       "      <td>0.331157</td>\n",
       "    </tr>\n",
       "    <tr>\n",
       "      <th>4</th>\n",
       "      <td>0.057267</td>\n",
       "      <td>-1.229136</td>\n",
       "      <td>0.083155</td>\n",
       "      <td>-0.170212</td>\n",
       "    </tr>\n",
       "    <tr>\n",
       "      <th>5</th>\n",
       "      <td>-1.819784</td>\n",
       "      <td>0.529332</td>\n",
       "      <td>-0.507341</td>\n",
       "      <td>-0.104891</td>\n",
       "    </tr>\n",
       "  </tbody>\n",
       "</table>\n",
       "</div>"
      ],
      "text/plain": [
       "       CROX      NFLX       TIF      TSLA\n",
       "1  0.644683  0.953907  0.149362  0.240716\n",
       "2 -1.173083 -1.605279 -0.561163 -0.114641\n",
       "3 -0.175786  0.169906 -1.258108  0.331157\n",
       "4  0.057267 -1.229136  0.083155 -0.170212\n",
       "5 -1.819784  0.529332 -0.507341 -0.104891"
      ]
     },
     "execution_count": 8,
     "metadata": {},
     "output_type": "execute_result"
    }
   ],
   "source": [
    "dict = {'CROX': res_CROX.std_resid, 'NFLX': res_NFLX.std_resid, 'TIF': res_TIF.std_resid, 'TSLA':res_TSLA.std_resid}\n",
    "std = pd.DataFrame(dict)\n",
    "std.head()"
   ]
  },
  {
   "cell_type": "code",
   "execution_count": 9,
   "metadata": {},
   "outputs": [],
   "source": [
    "std.to_csv('std.csv',index=False)"
   ]
  },
  {
   "cell_type": "markdown",
   "metadata": {},
   "source": [
    "### （ii) Cross-correlogram and the cross-correlogram of absolute values."
   ]
  },
  {
   "cell_type": "code",
   "execution_count": 10,
   "metadata": {},
   "outputs": [
    {
     "data": {
      "text/html": [
       "<div>\n",
       "<style scoped>\n",
       "    .dataframe tbody tr th:only-of-type {\n",
       "        vertical-align: middle;\n",
       "    }\n",
       "\n",
       "    .dataframe tbody tr th {\n",
       "        vertical-align: top;\n",
       "    }\n",
       "\n",
       "    .dataframe thead th {\n",
       "        text-align: right;\n",
       "    }\n",
       "</style>\n",
       "<table border=\"1\" class=\"dataframe\">\n",
       "  <thead>\n",
       "    <tr style=\"text-align: right;\">\n",
       "      <th></th>\n",
       "      <th>CROX</th>\n",
       "      <th>NFLX</th>\n",
       "      <th>TIF</th>\n",
       "      <th>TSLA</th>\n",
       "    </tr>\n",
       "  </thead>\n",
       "  <tbody>\n",
       "    <tr>\n",
       "      <th>1</th>\n",
       "      <td>0.644683</td>\n",
       "      <td>0.953907</td>\n",
       "      <td>0.149362</td>\n",
       "      <td>0.240716</td>\n",
       "    </tr>\n",
       "    <tr>\n",
       "      <th>2</th>\n",
       "      <td>1.173083</td>\n",
       "      <td>1.605279</td>\n",
       "      <td>0.561163</td>\n",
       "      <td>0.114641</td>\n",
       "    </tr>\n",
       "    <tr>\n",
       "      <th>3</th>\n",
       "      <td>0.175786</td>\n",
       "      <td>0.169906</td>\n",
       "      <td>1.258108</td>\n",
       "      <td>0.331157</td>\n",
       "    </tr>\n",
       "    <tr>\n",
       "      <th>4</th>\n",
       "      <td>0.057267</td>\n",
       "      <td>1.229136</td>\n",
       "      <td>0.083155</td>\n",
       "      <td>0.170212</td>\n",
       "    </tr>\n",
       "    <tr>\n",
       "      <th>5</th>\n",
       "      <td>1.819784</td>\n",
       "      <td>0.529332</td>\n",
       "      <td>0.507341</td>\n",
       "      <td>0.104891</td>\n",
       "    </tr>\n",
       "  </tbody>\n",
       "</table>\n",
       "</div>"
      ],
      "text/plain": [
       "       CROX      NFLX       TIF      TSLA\n",
       "1  0.644683  0.953907  0.149362  0.240716\n",
       "2  1.173083  1.605279  0.561163  0.114641\n",
       "3  0.175786  0.169906  1.258108  0.331157\n",
       "4  0.057267  1.229136  0.083155  0.170212\n",
       "5  1.819784  0.529332  0.507341  0.104891"
      ]
     },
     "execution_count": 10,
     "metadata": {},
     "output_type": "execute_result"
    }
   ],
   "source": [
    "# Absolute standardised residuals \n",
    "dict = {'CROX': abs(res_CROX.std_resid), 'NFLX': abs(res_NFLX.std_resid), 'TIF': abs(res_TIF.std_resid), 'TSLA':abs(res_TSLA.std_resid)}\n",
    "ab_std = pd.DataFrame(dict)\n",
    "ab_std.head()"
   ]
  },
  {
   "cell_type": "code",
   "execution_count": 11,
   "metadata": {},
   "outputs": [
    {
     "data": {
      "text/html": [
       "<div>\n",
       "<style scoped>\n",
       "    .dataframe tbody tr th:only-of-type {\n",
       "        vertical-align: middle;\n",
       "    }\n",
       "\n",
       "    .dataframe tbody tr th {\n",
       "        vertical-align: top;\n",
       "    }\n",
       "\n",
       "    .dataframe thead th {\n",
       "        text-align: right;\n",
       "    }\n",
       "</style>\n",
       "<table border=\"1\" class=\"dataframe\">\n",
       "  <thead>\n",
       "    <tr style=\"text-align: right;\">\n",
       "      <th></th>\n",
       "      <th>CROX</th>\n",
       "      <th>NFLX</th>\n",
       "      <th>TIF</th>\n",
       "      <th>TSLA</th>\n",
       "    </tr>\n",
       "  </thead>\n",
       "  <tbody>\n",
       "    <tr>\n",
       "      <th>1</th>\n",
       "      <td>0.644683</td>\n",
       "      <td>0.953907</td>\n",
       "      <td>0.149362</td>\n",
       "      <td>0.240716</td>\n",
       "    </tr>\n",
       "    <tr>\n",
       "      <th>2</th>\n",
       "      <td>1.173083</td>\n",
       "      <td>1.605279</td>\n",
       "      <td>0.561163</td>\n",
       "      <td>0.114641</td>\n",
       "    </tr>\n",
       "    <tr>\n",
       "      <th>3</th>\n",
       "      <td>0.175786</td>\n",
       "      <td>0.169906</td>\n",
       "      <td>1.258108</td>\n",
       "      <td>0.331157</td>\n",
       "    </tr>\n",
       "    <tr>\n",
       "      <th>4</th>\n",
       "      <td>0.057267</td>\n",
       "      <td>1.229136</td>\n",
       "      <td>0.083155</td>\n",
       "      <td>0.170212</td>\n",
       "    </tr>\n",
       "    <tr>\n",
       "      <th>5</th>\n",
       "      <td>1.819784</td>\n",
       "      <td>0.529332</td>\n",
       "      <td>0.507341</td>\n",
       "      <td>0.104891</td>\n",
       "    </tr>\n",
       "    <tr>\n",
       "      <th>...</th>\n",
       "      <td>...</td>\n",
       "      <td>...</td>\n",
       "      <td>...</td>\n",
       "      <td>...</td>\n",
       "    </tr>\n",
       "    <tr>\n",
       "      <th>1996</th>\n",
       "      <td>0.295332</td>\n",
       "      <td>0.187034</td>\n",
       "      <td>0.453869</td>\n",
       "      <td>2.141232</td>\n",
       "    </tr>\n",
       "    <tr>\n",
       "      <th>1997</th>\n",
       "      <td>0.945191</td>\n",
       "      <td>0.566600</td>\n",
       "      <td>3.411517</td>\n",
       "      <td>0.276510</td>\n",
       "    </tr>\n",
       "    <tr>\n",
       "      <th>1998</th>\n",
       "      <td>0.398179</td>\n",
       "      <td>0.410309</td>\n",
       "      <td>0.022462</td>\n",
       "      <td>0.728026</td>\n",
       "    </tr>\n",
       "    <tr>\n",
       "      <th>1999</th>\n",
       "      <td>0.278525</td>\n",
       "      <td>0.362793</td>\n",
       "      <td>0.086449</td>\n",
       "      <td>0.201549</td>\n",
       "    </tr>\n",
       "    <tr>\n",
       "      <th>2000</th>\n",
       "      <td>0.508136</td>\n",
       "      <td>0.202740</td>\n",
       "      <td>0.088297</td>\n",
       "      <td>0.160859</td>\n",
       "    </tr>\n",
       "  </tbody>\n",
       "</table>\n",
       "<p>2000 rows × 4 columns</p>\n",
       "</div>"
      ],
      "text/plain": [
       "          CROX      NFLX       TIF      TSLA\n",
       "1     0.644683  0.953907  0.149362  0.240716\n",
       "2     1.173083  1.605279  0.561163  0.114641\n",
       "3     0.175786  0.169906  1.258108  0.331157\n",
       "4     0.057267  1.229136  0.083155  0.170212\n",
       "5     1.819784  0.529332  0.507341  0.104891\n",
       "...        ...       ...       ...       ...\n",
       "1996  0.295332  0.187034  0.453869  2.141232\n",
       "1997  0.945191  0.566600  3.411517  0.276510\n",
       "1998  0.398179  0.410309  0.022462  0.728026\n",
       "1999  0.278525  0.362793  0.086449  0.201549\n",
       "2000  0.508136  0.202740  0.088297  0.160859\n",
       "\n",
       "[2000 rows x 4 columns]"
      ]
     },
     "execution_count": 11,
     "metadata": {},
     "output_type": "execute_result"
    }
   ],
   "source": [
    "ab_std"
   ]
  },
  {
   "cell_type": "code",
   "execution_count": 12,
   "metadata": {},
   "outputs": [],
   "source": [
    "ab_std.to_csv('ab_std.csv',index=False)"
   ]
  },
  {
   "cell_type": "markdown",
   "metadata": {},
   "source": [
    "### See R for the plot"
   ]
  },
  {
   "cell_type": "markdown",
   "metadata": {},
   "source": [
    "### (iii) Fit a Gauss copula to the standardised residual using method of moments"
   ]
  },
  {
   "cell_type": "markdown",
   "metadata": {},
   "source": [
    "### See R for the result"
   ]
  },
  {
   "cell_type": "markdown",
   "metadata": {},
   "source": [
    "### (iv) Monte Carlo based VaR and ES forecast"
   ]
  },
  {
   "cell_type": "code",
   "execution_count": 13,
   "metadata": {},
   "outputs": [
    {
     "data": {
      "text/html": [
       "<div>\n",
       "<style scoped>\n",
       "    .dataframe tbody tr th:only-of-type {\n",
       "        vertical-align: middle;\n",
       "    }\n",
       "\n",
       "    .dataframe tbody tr th {\n",
       "        vertical-align: top;\n",
       "    }\n",
       "\n",
       "    .dataframe thead th {\n",
       "        text-align: right;\n",
       "    }\n",
       "</style>\n",
       "<table border=\"1\" class=\"dataframe\">\n",
       "  <thead>\n",
       "    <tr style=\"text-align: right;\">\n",
       "      <th></th>\n",
       "      <th>V1</th>\n",
       "      <th>V2</th>\n",
       "      <th>V3</th>\n",
       "      <th>V4</th>\n",
       "    </tr>\n",
       "  </thead>\n",
       "  <tbody>\n",
       "    <tr>\n",
       "      <th>0</th>\n",
       "      <td>0.642831</td>\n",
       "      <td>0.820200</td>\n",
       "      <td>0.916458</td>\n",
       "      <td>0.729458</td>\n",
       "    </tr>\n",
       "    <tr>\n",
       "      <th>1</th>\n",
       "      <td>0.189657</td>\n",
       "      <td>0.697723</td>\n",
       "      <td>0.380910</td>\n",
       "      <td>0.848720</td>\n",
       "    </tr>\n",
       "    <tr>\n",
       "      <th>2</th>\n",
       "      <td>0.283927</td>\n",
       "      <td>0.508652</td>\n",
       "      <td>0.673422</td>\n",
       "      <td>0.216514</td>\n",
       "    </tr>\n",
       "    <tr>\n",
       "      <th>3</th>\n",
       "      <td>0.453507</td>\n",
       "      <td>0.573142</td>\n",
       "      <td>0.202932</td>\n",
       "      <td>0.901724</td>\n",
       "    </tr>\n",
       "    <tr>\n",
       "      <th>4</th>\n",
       "      <td>0.883367</td>\n",
       "      <td>0.757102</td>\n",
       "      <td>0.243429</td>\n",
       "      <td>0.807143</td>\n",
       "    </tr>\n",
       "  </tbody>\n",
       "</table>\n",
       "</div>"
      ],
      "text/plain": [
       "         V1        V2        V3        V4\n",
       "0  0.642831  0.820200  0.916458  0.729458\n",
       "1  0.189657  0.697723  0.380910  0.848720\n",
       "2  0.283927  0.508652  0.673422  0.216514\n",
       "3  0.453507  0.573142  0.202932  0.901724\n",
       "4  0.883367  0.757102  0.243429  0.807143"
      ]
     },
     "execution_count": 13,
     "metadata": {},
     "output_type": "execute_result"
    }
   ],
   "source": [
    "data = pd.read_csv('stimulate.csv')\n",
    "data.head()"
   ]
  },
  {
   "cell_type": "code",
   "execution_count": 18,
   "metadata": {},
   "outputs": [
    {
     "data": {
      "text/html": [
       "<div>\n",
       "<style scoped>\n",
       "    .dataframe tbody tr th:only-of-type {\n",
       "        vertical-align: middle;\n",
       "    }\n",
       "\n",
       "    .dataframe tbody tr th {\n",
       "        vertical-align: top;\n",
       "    }\n",
       "\n",
       "    .dataframe thead th {\n",
       "        text-align: right;\n",
       "    }\n",
       "</style>\n",
       "<table border=\"1\" class=\"dataframe\">\n",
       "  <thead>\n",
       "    <tr style=\"text-align: right;\">\n",
       "      <th></th>\n",
       "      <th>V1</th>\n",
       "      <th>V2</th>\n",
       "      <th>V3</th>\n",
       "      <th>V4</th>\n",
       "    </tr>\n",
       "  </thead>\n",
       "  <tbody>\n",
       "    <tr>\n",
       "      <th>0</th>\n",
       "      <td>0.642831</td>\n",
       "      <td>0.820200</td>\n",
       "      <td>0.916458</td>\n",
       "      <td>0.729458</td>\n",
       "    </tr>\n",
       "    <tr>\n",
       "      <th>1</th>\n",
       "      <td>0.189657</td>\n",
       "      <td>0.697723</td>\n",
       "      <td>0.380910</td>\n",
       "      <td>0.848720</td>\n",
       "    </tr>\n",
       "    <tr>\n",
       "      <th>2</th>\n",
       "      <td>0.283927</td>\n",
       "      <td>0.508652</td>\n",
       "      <td>0.673422</td>\n",
       "      <td>0.216514</td>\n",
       "    </tr>\n",
       "    <tr>\n",
       "      <th>3</th>\n",
       "      <td>0.453507</td>\n",
       "      <td>0.573142</td>\n",
       "      <td>0.202932</td>\n",
       "      <td>0.901724</td>\n",
       "    </tr>\n",
       "    <tr>\n",
       "      <th>4</th>\n",
       "      <td>0.883367</td>\n",
       "      <td>0.757102</td>\n",
       "      <td>0.243429</td>\n",
       "      <td>0.807143</td>\n",
       "    </tr>\n",
       "    <tr>\n",
       "      <th>...</th>\n",
       "      <td>...</td>\n",
       "      <td>...</td>\n",
       "      <td>...</td>\n",
       "      <td>...</td>\n",
       "    </tr>\n",
       "    <tr>\n",
       "      <th>99995</th>\n",
       "      <td>0.942817</td>\n",
       "      <td>0.983372</td>\n",
       "      <td>0.518340</td>\n",
       "      <td>0.574661</td>\n",
       "    </tr>\n",
       "    <tr>\n",
       "      <th>99996</th>\n",
       "      <td>0.461725</td>\n",
       "      <td>0.343077</td>\n",
       "      <td>0.083224</td>\n",
       "      <td>0.710037</td>\n",
       "    </tr>\n",
       "    <tr>\n",
       "      <th>99997</th>\n",
       "      <td>0.302204</td>\n",
       "      <td>0.282264</td>\n",
       "      <td>0.565836</td>\n",
       "      <td>0.212246</td>\n",
       "    </tr>\n",
       "    <tr>\n",
       "      <th>99998</th>\n",
       "      <td>0.166292</td>\n",
       "      <td>0.012973</td>\n",
       "      <td>0.030475</td>\n",
       "      <td>0.059092</td>\n",
       "    </tr>\n",
       "    <tr>\n",
       "      <th>99999</th>\n",
       "      <td>0.933406</td>\n",
       "      <td>0.671459</td>\n",
       "      <td>0.807851</td>\n",
       "      <td>0.458397</td>\n",
       "    </tr>\n",
       "  </tbody>\n",
       "</table>\n",
       "<p>100000 rows × 4 columns</p>\n",
       "</div>"
      ],
      "text/plain": [
       "             V1        V2        V3        V4\n",
       "0      0.642831  0.820200  0.916458  0.729458\n",
       "1      0.189657  0.697723  0.380910  0.848720\n",
       "2      0.283927  0.508652  0.673422  0.216514\n",
       "3      0.453507  0.573142  0.202932  0.901724\n",
       "4      0.883367  0.757102  0.243429  0.807143\n",
       "...         ...       ...       ...       ...\n",
       "99995  0.942817  0.983372  0.518340  0.574661\n",
       "99996  0.461725  0.343077  0.083224  0.710037\n",
       "99997  0.302204  0.282264  0.565836  0.212246\n",
       "99998  0.166292  0.012973  0.030475  0.059092\n",
       "99999  0.933406  0.671459  0.807851  0.458397\n",
       "\n",
       "[100000 rows x 4 columns]"
      ]
     },
     "execution_count": 18,
     "metadata": {},
     "output_type": "execute_result"
    }
   ],
   "source": [
    "data #copula"
   ]
  },
  {
   "cell_type": "markdown",
   "metadata": {},
   "source": [
    "$\\sigma_{t+1} ^ 2 = \\omega + \\alpha \\epsilon_t^2 + \\beta \\sigma_t^2$"
   ]
  },
  {
   "cell_type": "code",
   "execution_count": 14,
   "metadata": {},
   "outputs": [],
   "source": [
    "# CROX\n",
    "CROX_volforcast = math.sqrt(res_CROX.params[1] + res_CROX.params[2]*(res_CROX.resid[2000]**2) + res_CROX.params[3]*(res_CROX._volatility[-1]**2))\n",
    "CROX_s = [res_CROX.params[0] + CROX_volforcast*np.quantile(std.CROX,q=i) for i in data.V1]\n",
    "\n",
    "# NFLX\n",
    "NFLX_volforcast = math.sqrt(res_NFLX.params[1] + res_NFLX.params[2]*(res_NFLX.resid[2000]**2) + res_NFLX.params[3]*(res_NFLX._volatility[-1]**2))\n",
    "NFLX_s = [res_NFLX.params[0] + NFLX_volforcast*np.quantile(std.NFLX,q=i) for i in data.V2]\n",
    "\n",
    "# TIF\n",
    "TIF_volforcast = math.sqrt(res_TIF.params[1] + res_TIF.params[2]*(res_TIF.resid[2000]**2) + res_TIF.params[3]*(res_TIF._volatility[-1]**2))\n",
    "TIF_s = [res_TIF.params[0] + TIF_volforcast*np.quantile(std.TIF,q=i) for i in data.V3]\n",
    "\n",
    "#TSLA\n",
    "TSLA_volforcast = math.sqrt(res_TSLA.params[1] + res_TSLA.params[2]*(res_TSLA.resid[2000]**2) + res_TSLA.params[3]*(res_TSLA._volatility[-1]**2))\n",
    "TSLA_s = [res_TSLA.params[0] + TSLA_volforcast*np.quantile(std.TSLA,q=i) for i in data.V4]"
   ]
  },
  {
   "cell_type": "code",
   "execution_count": 15,
   "metadata": {},
   "outputs": [
    {
     "data": {
      "text/html": [
       "<div>\n",
       "<style scoped>\n",
       "    .dataframe tbody tr th:only-of-type {\n",
       "        vertical-align: middle;\n",
       "    }\n",
       "\n",
       "    .dataframe tbody tr th {\n",
       "        vertical-align: top;\n",
       "    }\n",
       "\n",
       "    .dataframe thead th {\n",
       "        text-align: right;\n",
       "    }\n",
       "</style>\n",
       "<table border=\"1\" class=\"dataframe\">\n",
       "  <thead>\n",
       "    <tr style=\"text-align: right;\">\n",
       "      <th></th>\n",
       "      <th>CROX</th>\n",
       "      <th>NFLX</th>\n",
       "      <th>TIF</th>\n",
       "      <th>TSLA</th>\n",
       "    </tr>\n",
       "  </thead>\n",
       "  <tbody>\n",
       "    <tr>\n",
       "      <th>0</th>\n",
       "      <td>0.005718</td>\n",
       "      <td>0.014356</td>\n",
       "      <td>0.019772</td>\n",
       "      <td>0.012200</td>\n",
       "    </tr>\n",
       "    <tr>\n",
       "      <th>1</th>\n",
       "      <td>-0.015645</td>\n",
       "      <td>0.008075</td>\n",
       "      <td>-0.004112</td>\n",
       "      <td>0.024281</td>\n",
       "    </tr>\n",
       "    <tr>\n",
       "      <th>2</th>\n",
       "      <td>-0.009665</td>\n",
       "      <td>-0.000090</td>\n",
       "      <td>0.005361</td>\n",
       "      <td>-0.019825</td>\n",
       "    </tr>\n",
       "    <tr>\n",
       "      <th>3</th>\n",
       "      <td>-0.002556</td>\n",
       "      <td>0.002575</td>\n",
       "      <td>-0.011510</td>\n",
       "      <td>0.032123</td>\n",
       "    </tr>\n",
       "    <tr>\n",
       "      <th>4</th>\n",
       "      <td>0.022124</td>\n",
       "      <td>0.010470</td>\n",
       "      <td>-0.009532</td>\n",
       "      <td>0.019152</td>\n",
       "    </tr>\n",
       "  </tbody>\n",
       "</table>\n",
       "</div>"
      ],
      "text/plain": [
       "       CROX      NFLX       TIF      TSLA\n",
       "0  0.005718  0.014356  0.019772  0.012200\n",
       "1 -0.015645  0.008075 -0.004112  0.024281\n",
       "2 -0.009665 -0.000090  0.005361 -0.019825\n",
       "3 -0.002556  0.002575 -0.011510  0.032123\n",
       "4  0.022124  0.010470 -0.009532  0.019152"
      ]
     },
     "execution_count": 15,
     "metadata": {},
     "output_type": "execute_result"
    }
   ],
   "source": [
    "dict = {'CROX': CROX_s, 'NFLX': NFLX_s, 'TIF': TIF_s, 'TSLA':TSLA_s}\n",
    "stim_return = pd.DataFrame(dict)\n",
    "stim_return.head() # compute stimulated returns "
   ]
  },
  {
   "cell_type": "code",
   "execution_count": 16,
   "metadata": {},
   "outputs": [
    {
     "name": "stdout",
     "output_type": "stream",
     "text": [
      "0.02638111574117427 0.04607741825064669 0.0386851576865765 0.06088765086623263\n"
     ]
    }
   ],
   "source": [
    "# Compute the simulated portforlio losses\n",
    "L = list(-stim_return.sum(axis =1)/4)\n",
    "N = 100000\n",
    "\n",
    "# Compute the 95% and 99% VaR and ES \n",
    "VaR_95 = np.quantile(L, 0.95)\n",
    "VaR_99 = np.quantile(L, 0.99)\n",
    "\n",
    "ES_95 = (1/(N*0.05))*sum([k for k in L if k > VaR_95])\n",
    "ES_99 = (1/(N*0.01))*sum([k for k in L if k > VaR_99])\n",
    "\n",
    "print(VaR_95, VaR_99,ES_95,ES_99)"
   ]
  },
  {
   "cell_type": "markdown",
   "metadata": {},
   "source": []
  },
  {
   "cell_type": "code",
   "execution_count": 17,
   "metadata": {},
   "outputs": [
    {
     "data": {
      "text/html": [
       "<div>\n",
       "<style scoped>\n",
       "    .dataframe tbody tr th:only-of-type {\n",
       "        vertical-align: middle;\n",
       "    }\n",
       "\n",
       "    .dataframe tbody tr th {\n",
       "        vertical-align: top;\n",
       "    }\n",
       "\n",
       "    .dataframe thead th {\n",
       "        text-align: right;\n",
       "    }\n",
       "</style>\n",
       "<table border=\"1\" class=\"dataframe\">\n",
       "  <thead>\n",
       "    <tr style=\"text-align: right;\">\n",
       "      <th></th>\n",
       "      <th>V1</th>\n",
       "      <th>V2</th>\n",
       "      <th>V3</th>\n",
       "      <th>V4</th>\n",
       "    </tr>\n",
       "  </thead>\n",
       "  <tbody>\n",
       "    <tr>\n",
       "      <th>0</th>\n",
       "      <td>0.642831</td>\n",
       "      <td>0.820200</td>\n",
       "      <td>0.916458</td>\n",
       "      <td>0.729458</td>\n",
       "    </tr>\n",
       "    <tr>\n",
       "      <th>1</th>\n",
       "      <td>0.189657</td>\n",
       "      <td>0.697723</td>\n",
       "      <td>0.380910</td>\n",
       "      <td>0.848720</td>\n",
       "    </tr>\n",
       "    <tr>\n",
       "      <th>2</th>\n",
       "      <td>0.283927</td>\n",
       "      <td>0.508652</td>\n",
       "      <td>0.673422</td>\n",
       "      <td>0.216514</td>\n",
       "    </tr>\n",
       "    <tr>\n",
       "      <th>3</th>\n",
       "      <td>0.453507</td>\n",
       "      <td>0.573142</td>\n",
       "      <td>0.202932</td>\n",
       "      <td>0.901724</td>\n",
       "    </tr>\n",
       "    <tr>\n",
       "      <th>4</th>\n",
       "      <td>0.883367</td>\n",
       "      <td>0.757102</td>\n",
       "      <td>0.243429</td>\n",
       "      <td>0.807143</td>\n",
       "    </tr>\n",
       "  </tbody>\n",
       "</table>\n",
       "</div>"
      ],
      "text/plain": [
       "         V1        V2        V3        V4\n",
       "0  0.642831  0.820200  0.916458  0.729458\n",
       "1  0.189657  0.697723  0.380910  0.848720\n",
       "2  0.283927  0.508652  0.673422  0.216514\n",
       "3  0.453507  0.573142  0.202932  0.901724\n",
       "4  0.883367  0.757102  0.243429  0.807143"
      ]
     },
     "execution_count": 17,
     "metadata": {},
     "output_type": "execute_result"
    }
   ],
   "source": [
    "data.head()"
   ]
  },
  {
   "cell_type": "code",
   "execution_count": null,
   "metadata": {},
   "outputs": [],
   "source": []
  }
 ],
 "metadata": {
  "interpreter": {
   "hash": "40d3a090f54c6569ab1632332b64b2c03c39dcf918b08424e98f38b5ae0af88f"
  },
  "kernelspec": {
   "display_name": "Python 3.8.5 64-bit (conda)",
   "language": "python",
   "name": "python3"
  },
  "language_info": {
   "codemirror_mode": {
    "name": "ipython",
    "version": 3
   },
   "file_extension": ".py",
   "mimetype": "text/x-python",
   "name": "python",
   "nbconvert_exporter": "python",
   "pygments_lexer": "ipython3",
   "version": "3.8.5"
  },
  "orig_nbformat": 4
 },
 "nbformat": 4,
 "nbformat_minor": 2
}
